{
 "cells": [
  {
   "cell_type": "code",
   "execution_count": 109,
   "metadata": {},
   "outputs": [],
   "source": [
    "import pandas as pd\n",
    "import tensorflow as tf\n",
    "import numpy as np\n",
    "import os\n",
    "import cv2\n",
    "import matplotlib.pyplot as plt\n",
    "import glob"
   ]
  },
  {
   "cell_type": "code",
   "execution_count": 110,
   "metadata": {},
   "outputs": [],
   "source": [
    "imgs=[]\n",
    "for image_path in glob.glob(\"./Pokemon/*\"):\n",
    "    image=cv2.imread(image_path,cv2.IMREAD_COLOR)\n",
    "    image = cv2.normalize(image.astype('float'), None, 0.0, 1.0, cv2.NORM_MINMAX)\n",
    "    imgs.append(image)"
   ]
  },
  {
   "cell_type": "code",
   "execution_count": 111,
   "metadata": {},
   "outputs": [],
   "source": [
    "poke_images=np.array(imgs)"
   ]
  },
  {
   "cell_type": "code",
   "execution_count": 112,
   "metadata": {},
   "outputs": [],
   "source": [
    "batch_size=len(poke_images)\n",
    "height=40\n",
    "width=40\n",
    "channels=3"
   ]
  },
  {
   "cell_type": "code",
   "execution_count": 113,
   "metadata": {},
   "outputs": [
    {
     "name": "stdout",
     "output_type": "stream",
     "text": [
      "(5, 40, 40, 6)\n",
      "(5, 20, 20, 6)\n",
      "(5, 20, 20, 16)\n",
      "(5, 10, 10, 16)\n"
     ]
    }
   ],
   "source": [
    "#I'm following the Lenet5 Values for some of the filters and kernels\n",
    "input_size=792\n",
    "batch_size=24\n",
    "training_epochs=1000\n",
    "display_step=100\n",
    "X=tf.placeholder(tf.float32,shape=(None,height,width,channels))\n",
    "filter1=tf.Variable(tf.truncated_normal([5,5,channels,6],stddev=0.035))#6 3x3xchannels filters for RGB\n",
    "bias1=tf.Variable(tf.truncated_normal([6],stddev=0.035))\n",
    "ex=tf.constant(0.1,shape=[5,height,width,channels])\n",
    "expected=tf.nn.conv2d(ex,filter1,strides=[1,1,1,1],padding=\"SAME\")\n",
    "print(expected.get_shape())\n",
    "conv1=tf.nn.conv2d(X,filter1,strides=[1,1,1,1],padding=\"SAME\")\n",
    "conv1=tf.nn.bias_add(conv1,bias1)\n",
    "conv1=tf.nn.relu(conv1)\n",
    "pool1=tf.nn.max_pool(conv1,ksize=[1,2,2,1],strides=[1,2,2,1],padding=\"SAME\")\n",
    "poolexpected=tf.nn.max_pool(expected,ksize=[1,2,2,1],strides=[1,2,2,1],padding=\"SAME\")\n",
    "print(poolexpected.get_shape())\n",
    "filter2=tf.Variable(tf.truncated_normal([5,5,6,16],stddev=0.035))\n",
    "bias2=tf.Variable(tf.truncated_normal([16],stddev=0.035))\n",
    "expected2=tf.nn.conv2d(poolexpected,filter2,strides=[1,1,1,1],padding=\"SAME\")\n",
    "print(expected2.get_shape())\n",
    "conv2=tf.nn.conv2d(pool1,filter2,strides=[1,1,1,1],padding=\"SAME\")\n",
    "\n",
    "conv2=tf.nn.bias_add(conv2,bias2)\n",
    "conv2=tf.nn.relu(conv2)\n",
    "pool2=tf.nn.max_pool(conv2,ksize=[1,2,2,1],strides=[1,2,2,1],padding=\"SAME\")\n",
    "poolexpected2=tf.nn.max_pool(expected2,ksize=[1,2,2,1],strides=[1,2,2,1],padding=\"SAME\")\n",
    "print(poolexpected2.get_shape())\n",
    "defilter1=tf.Variable(tf.truncated_normal([5,5,6,16],stddev=0.035))\n",
    "deconv1=tf.nn.conv2d_transpose(pool2,defilter1,tf.stack([tf.shape(X)[0],10,10,6]),strides=[1,1,1,1],padding=\"SAME\")\n",
    "debias1=tf.Variable(tf.truncated_normal([6],stddev=0.035))\n",
    "deconv1=tf.nn.bias_add(deconv1,debias1)\n",
    "deconv1=tf.nn.sigmoid(deconv1)\n",
    "depool1=tf.image.resize_nearest_neighbor(deconv1,size=tf.stack([20,20]))\n",
    "debias2=tf.Variable(tf.truncated_normal([3],stddev=0.035))\n",
    "defilter2=tf.Variable(tf.truncated_normal([5,5,channels,6],stddev=0.035))\n",
    "deconv2=tf.nn.conv2d_transpose(depool1,defilter2,tf.stack([tf.shape(X)[0],20,20,3]),strides=[1,1,1,1],padding=\"SAME\")\n",
    "deconv2=tf.nn.bias_add(deconv2,debias2)\n",
    "deconv2=tf.nn.sigmoid(deconv2)\n",
    "depool2=tf.image.resize_nearest_neighbor(deconv2,size=tf.stack([40,40]))\n"
   ]
  },
  {
   "cell_type": "code",
   "execution_count": 114,
   "metadata": {},
   "outputs": [],
   "source": [
    "cost=tf.reduce_mean(tf.pow(depool2-X,2))\n",
    "optimizer=tf.train.AdamOptimizer(learning_rate=0.05).minimize(cost)"
   ]
  },
  {
   "cell_type": "code",
   "execution_count": 115,
   "metadata": {
    "collapsed": true
   },
   "outputs": [],
   "source": [
    "init=tf.global_variables_initializer()\n",
    "sess=tf.InteractiveSession()\n",
    "sess.run(init)"
   ]
  },
  {
   "cell_type": "code",
   "execution_count": null,
   "metadata": {},
   "outputs": [
    {
     "name": "stdout",
     "output_type": "stream",
     "text": [
      "Epoch: 00001   loss: 0.110709\n"
     ]
    }
   ],
   "source": [
    "#This training part is entirely copied\n",
    "\n",
    "total_batch = int(input_size/batch_size)\n",
    "# Training cycle\n",
    "for epoch in range(training_epochs):\n",
    "    # Loop over all batches\n",
    "    start = 0; end = batch_size\n",
    "    for i in range(total_batch-1):\n",
    "        index = np.arange(start, end)\n",
    "        np.random.shuffle(index)\n",
    "        batch_xs = poke_images[index]\n",
    "        start = end; end = start+batch_size\n",
    "        # Run optimization op (backprop) and loss op (to get loss value)\n",
    "        _, c = sess.run([optimizer, cost], feed_dict={X: batch_xs})\n",
    "    # Display logs per epoch step\n",
    "    if ((epoch == 0) or (epoch+1) % display_step == 0) or ((epoch+1) == training_epochs):\n",
    "        print ('Epoch: {0:05d}   loss: {1:f}'.format(epoch+1, c))\n",
    "\n",
    "print(\"Optimization Finished!\")\n"
   ]
  },
  {
   "cell_type": "code",
   "execution_count": null,
   "metadata": {
    "collapsed": true
   },
   "outputs": [],
   "source": []
  }
 ],
 "metadata": {
  "kernelspec": {
   "display_name": "Python 3",
   "language": "python",
   "name": "python3"
  },
  "language_info": {
   "codemirror_mode": {
    "name": "ipython",
    "version": 3
   },
   "file_extension": ".py",
   "mimetype": "text/x-python",
   "name": "python",
   "nbconvert_exporter": "python",
   "pygments_lexer": "ipython3",
   "version": "3.5.3"
  }
 },
 "nbformat": 4,
 "nbformat_minor": 2
}
